{
  "nbformat": 4,
  "nbformat_minor": 0,
  "metadata": {
    "colab": {
      "provenance": [],
      "authorship_tag": "ABX9TyOq1vQnyrcK3MTuCt3Csff1",
      "include_colab_link": true
    },
    "kernelspec": {
      "name": "python3",
      "display_name": "Python 3"
    },
    "language_info": {
      "name": "python"
    }
  },
  "cells": [
    {
      "cell_type": "markdown",
      "metadata": {
        "id": "view-in-github",
        "colab_type": "text"
      },
      "source": [
        "<a href=\"https://colab.research.google.com/github/zhuqiwen/e533-deep-learning-systems-2023-fall/blob/main/hw1/1-pytorch_softmax_regression.ipynb\" target=\"_parent\"><img src=\"https://colab.research.google.com/assets/colab-badge.svg\" alt=\"Open In Colab\"/></a>"
      ]
    },
    {
      "cell_type": "code",
      "execution_count": 2,
      "metadata": {
        "id": "lYaHefjLA98U"
      },
      "outputs": [],
      "source": [
        "# imports\n",
        "import torch\n",
        "import torch.nn as nn\n",
        "import torch.optim as optim\n",
        "import matplotlib.pyplot as plt\n",
        "from torch.utils.data import DataLoader\n",
        "from torchvision import datasets, transforms"
      ]
    },
    {
      "cell_type": "markdown",
      "source": [
        "## Softmax class"
      ],
      "metadata": {
        "id": "_O0ytC-Z35kK"
      }
    },
    {
      "cell_type": "code",
      "source": [
        "class Softmax(nn.Module):\n",
        "\n",
        "  def __init__(self, inputLength, outputLength):\n",
        "    super(Softmax, self).__init__()\n",
        "    self.inputLength = inputLength\n",
        "    self.outputLength = outputLength\n",
        "    self.linear = nn.Linear(inputLength, outputLength)\n",
        "    self.optimizer = torch.optim.SGD(self.parameters(), lr=0.01)\n",
        "    self.lossFn = nn.CrossEntropyLoss()\n",
        "    self.batchSize = 16\n",
        "\n",
        "\n",
        "  def forward(self, x):\n",
        "    return self.linear(x)"
      ],
      "metadata": {
        "id": "KPjB7QK5EHEW"
      },
      "execution_count": 40,
      "outputs": []
    },
    {
      "cell_type": "markdown",
      "source": [
        "## Trainer class\n",
        "* train() wraps the process of training\n",
        "* collectAccuracyHistory() collects accuracy for each epoch\n",
        "* getAccuracyHistory() returns a list of accuracy history for plotting"
      ],
      "metadata": {
        "id": "9vK-vQyV4Hzo"
      }
    },
    {
      "cell_type": "code",
      "source": [
        "# train\n",
        "class Trainer():\n",
        "  def __init__(self, model, trainLoader, validateLoader, epochs=200):\n",
        "    self.accuracyHistory = []\n",
        "    self.model = model\n",
        "    self.trainLoader = trainLoader\n",
        "    self.validateLoader = validateLoader\n",
        "    self.epochs = epochs\n",
        "\n",
        "  def train(self):\n",
        "    for epoch in range(self.epochs):\n",
        "      for i, (imgs, labels) in enumerate(self.trainLoader):\n",
        "        self.model.optimizer.zero_grad()\n",
        "        outputs = self.model(imgs.view(-1, self.model.inputLength))\n",
        "        loss = self.model.lossFn(outputs, labels)\n",
        "        loss.backward()\n",
        "        self.model.optimizer.step()\n",
        "      self.collectAccuracyHistory()\n",
        "\n",
        "\n",
        "  def collectAccuracyHistory(self):\n",
        "    # get validateData size from data loader\n",
        "    correct = 0\n",
        "    for imgs, labels in self.validateLoader:\n",
        "      outputs = self.model(imgs.view(-1, self.model.inputLength))\n",
        "      _, predicted = torch.max(outputs.data, 1)\n",
        "      correct = correct + (predicted == labels).sum()\n",
        "    accuracy = 100 * (correct.item()) / len(self.validateLoader.dataset)\n",
        "    self.accuracyHistory.append(accuracy)\n",
        "\n",
        "  def getAccuracyHistory(self):\n",
        "    return self.accuracyHistory"
      ],
      "metadata": {
        "id": "FdA345aP4ClO"
      },
      "execution_count": null,
      "outputs": []
    },
    {
      "cell_type": "markdown",
      "source": [
        "## Utility functions\n",
        "* getDataLoaders() returns a tuple of training data loader and validating data loader\n",
        "* getData() wraps the process of downloading MNIST dataset"
      ],
      "metadata": {
        "id": "-2mSw0Oo4vyx"
      }
    },
    {
      "cell_type": "code",
      "source": [
        "\n",
        "def getDataLoaders(trainData, validateData, batchSize):\n",
        "  tl = DataLoader(dataset=trainData, batch_size=batchSize)\n",
        "  vl = DataLoader(dataset=validateData, batch_size=batchSize)\n",
        "  return (tl, vl)\n",
        "\n",
        "# prepare data\n",
        "def getData(dataSize=0):\n",
        "  data = datasets.MNIST('data', train=True, download=True, transform=transforms.ToTensor())\n",
        "  data = list(data)\n",
        "  if dataSize != 0 and dataSize <= len(data):\n",
        "    data = data[:dataSize]\n",
        "  trainLength = int(len(data) * 0.8)\n",
        "  return (data[:trainLength], data[trainLength:])"
      ],
      "metadata": {
        "id": "GUoPwzop4z2t"
      },
      "execution_count": null,
      "outputs": []
    },
    {
      "cell_type": "markdown",
      "source": [
        "## Run\n",
        "1. get data\n",
        "2. prepare necessary parameters: epochs, input length, output length\n",
        "3. initiate the softmax model\n",
        "4. get data loaders\n",
        "5. initiate a trainer object\n",
        "6. train\n",
        "7. get accuracy history\n",
        "8. plot accuracy hitory"
      ],
      "metadata": {
        "id": "UUz4Ypih5cSf"
      }
    },
    {
      "cell_type": "code",
      "source": [
        "# get data\n",
        "trainData, validateData = getData(4000)\n",
        "# prepare parameters\n",
        "inputLength = trainData[0][0].size(dim=1) * trainData[0][0].size(dim=2)\n",
        "outputLength = 10\n",
        "epochs = 200\n",
        "# get model instance\n",
        "model = Softmax(inputLength, outputLength)\n",
        "# get data loaders\n",
        "trainLoader, validateLoader = getDataLoaders(trainData, validateData, model.batchSize)\n",
        "# get trainer instance\n",
        "trainer = Trainer(model, trainLoader, validateLoader, epochs)\n",
        "# train\n",
        "trainer.train()\n",
        "# get accuracy history\n",
        "accuracyHistory = trainer.getAccuracyHistory()\n",
        "# plot accuracy history\n",
        "plt.plot(accuracyHistory)\n",
        "plt.xlabel(\"no. of epochs\")\n",
        "plt.ylabel(\"total accuracy\")\n",
        "plt.show()"
      ],
      "metadata": {
        "colab": {
          "base_uri": "https://localhost:8080/",
          "height": 449
        },
        "id": "4AaKl6oIFjU9",
        "outputId": "ac9d4567-29af-4470-9d19-af083c159c84"
      },
      "execution_count": 41,
      "outputs": [
        {
          "output_type": "display_data",
          "data": {
            "text/plain": [
              "<Figure size 640x480 with 1 Axes>"
            ],
            "image/png": "[encoded data removed]"
          },
          "metadata": {}
        }
      ]
    }
  ]
}