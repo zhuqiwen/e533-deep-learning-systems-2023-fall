{
  "nbformat": 4,
  "nbformat_minor": 0,
  "metadata": {
    "colab": {
      "provenance": [],
      "authorship_tag": "ABX9TyNPfc6NV3sJS5id6TnsxYWL",
      "include_colab_link": true
    },
    "kernelspec": {
      "name": "python3",
      "display_name": "Python 3"
    },
    "language_info": {
      "name": "python"
    }
  },
  "cells": [
    {
      "cell_type": "markdown",
      "metadata": {
        "id": "view-in-github",
        "colab_type": "text"
      },
      "source": [
        "<a href=\"https://colab.research.google.com/github/zhuqiwen/e533-deep-learning-systems-2023-fall/blob/main/hw1/1-pytorch_softmax_regression.ipynb\" target=\"_parent\"><img src=\"https://colab.research.google.com/assets/colab-badge.svg\" alt=\"Open In Colab\"/></a>"
      ]
    },
    {
      "cell_type": "code",
      "execution_count": 2,
      "metadata": {
        "id": "lYaHefjLA98U"
      },
      "outputs": [],
      "source": [
        "# imports\n",
        "import torch\n",
        "import torch.nn as nn\n",
        "import torch.optim as optim\n",
        "import matplotlib.pyplot as plt\n",
        "from torch.utils.data import DataLoader\n",
        "from torchvision import datasets, transforms"
      ]
    },
    {
      "cell_type": "code",
      "source": [
        "# define class and functions\n",
        "\n",
        "# Softmax class\n",
        "class Softmax(nn.Module):\n",
        "\n",
        "  def __init__(self, inputLength, outputLength):\n",
        "    super(Softmax, self).__init__()\n",
        "    self.linear = nn.Linear(inputLength, outputLength)\n",
        "    self.optimizer = optim.SGD(self.parameters(), lr=0.01)\n",
        "    self.lossFn = nn.CrossEntropyLoss()\n",
        "    self.batchSize = 16\n",
        "\n",
        "\n",
        "  def forward(self, x):\n",
        "    return self.linear(x)\n",
        "\n",
        "# prepare\n",
        "def getData():\n",
        "  data = datasets.MNIST('data', train=True, download=True, transform=transforms.ToTensor())\n",
        "  data = list(data)\n",
        "  trainLength = int(len(data) * 0.8)\n",
        "  return (data[:trainLength], data[trainLength:])\n",
        "\n",
        "\n",
        "trainData, validateData = getData()\n",
        "\n",
        "len(trainData)\n"
      ],
      "metadata": {
        "colab": {
          "base_uri": "https://localhost:8080/"
        },
        "id": "KPjB7QK5EHEW",
        "outputId": "bce57210-eb6d-4e6f-ecac-0e59a744b904"
      },
      "execution_count": 12,
      "outputs": [
        {
          "output_type": "execute_result",
          "data": {
            "text/plain": [
              "48000"
            ]
          },
          "metadata": {},
          "execution_count": 12
        }
      ]
    },
    {
      "cell_type": "code",
      "source": [],
      "metadata": {
        "id": "4AaKl6oIFjU9"
      },
      "execution_count": null,
      "outputs": []
    }
  ]
}